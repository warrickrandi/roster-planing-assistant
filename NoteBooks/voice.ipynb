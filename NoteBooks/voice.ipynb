{
 "cells": [
  {
   "cell_type": "code",
   "execution_count": 9,
   "metadata": {},
   "outputs": [
    {
     "name": "stdout",
     "output_type": "stream",
     "text": [
      "Collecting pyaudioNote: you may need to restart the kernel to use updated packages.\n"
     ]
    },
    {
     "name": "stderr",
     "output_type": "stream",
     "text": [
      "\n",
      "[notice] A new release of pip is available: 23.3.2 -> 24.0\n",
      "[notice] To update, run: python.exe -m pip install --upgrade pip\n"
     ]
    },
    {
     "name": "stdout",
     "output_type": "stream",
     "text": [
      "\n",
      "  Downloading PyAudio-0.2.14-cp311-cp311-win_amd64.whl.metadata (2.7 kB)\n",
      "Downloading PyAudio-0.2.14-cp311-cp311-win_amd64.whl (164 kB)\n",
      "   ---------------------------------------- 0.0/164.1 kB ? eta -:--:--\n",
      "   -- ------------------------------------- 10.2/164.1 kB ? eta -:--:--\n",
      "   ------- ------------------------------- 30.7/164.1 kB 435.7 kB/s eta 0:00:01\n",
      "   ---------------------------------------  163.8/164.1 kB 1.6 MB/s eta 0:00:01\n",
      "   ---------------------------------------- 164.1/164.1 kB 1.4 MB/s eta 0:00:00\n",
      "Installing collected packages: pyaudio\n",
      "Successfully installed pyaudio-0.2.14\n"
     ]
    }
   ],
   "source": [
    "#pip install pyaudio"
   ]
  },
  {
   "cell_type": "code",
   "execution_count": 5,
   "metadata": {},
   "outputs": [
    {
     "name": "stdout",
     "output_type": "stream",
     "text": [
      "Collecting SpeechRecognition\n",
      "  Downloading SpeechRecognition-3.10.1-py2.py3-none-any.whl.metadata (28 kB)\n",
      "Requirement already satisfied: requests>=2.26.0 in c:\\users\\rhasheen\\appdata\\local\\programs\\python\\python311\\lib\\site-packages (from SpeechRecognition) (2.31.0)\n",
      "Requirement already satisfied: typing-extensions in c:\\users\\rhasheen\\appdata\\local\\programs\\python\\python311\\lib\\site-packages (from SpeechRecognition) (4.9.0)\n",
      "Requirement already satisfied: charset-normalizer<4,>=2 in c:\\users\\rhasheen\\appdata\\local\\programs\\python\\python311\\lib\\site-packages (from requests>=2.26.0->SpeechRecognition) (3.3.2)\n",
      "Requirement already satisfied: idna<4,>=2.5 in c:\\users\\rhasheen\\appdata\\local\\programs\\python\\python311\\lib\\site-packages (from requests>=2.26.0->SpeechRecognition) (3.6)\n",
      "Requirement already satisfied: urllib3<3,>=1.21.1 in c:\\users\\rhasheen\\appdata\\local\\programs\\python\\python311\\lib\\site-packages (from requests>=2.26.0->SpeechRecognition) (2.2.0)\n",
      "Requirement already satisfied: certifi>=2017.4.17 in c:\\users\\rhasheen\\appdata\\local\\programs\\python\\python311\\lib\\site-packages (from requests>=2.26.0->SpeechRecognition) (2023.11.17)\n",
      "Downloading SpeechRecognition-3.10.1-py2.py3-none-any.whl (32.8 MB)\n",
      "   ---------------------------------------- 0.0/32.8 MB ? eta -:--:--\n",
      "   ---------------------------------------- 0.2/32.8 MB 6.3 MB/s eta 0:00:06\n",
      "   - -------------------------------------- 1.3/32.8 MB 16.4 MB/s eta 0:00:02\n",
      "   --- ------------------------------------ 2.9/32.8 MB 22.9 MB/s eta 0:00:02\n",
      "   ----- ---------------------------------- 4.3/32.8 MB 25.1 MB/s eta 0:00:02\n",
      "   ------- -------------------------------- 6.0/32.8 MB 27.7 MB/s eta 0:00:01\n",
      "   --------- ------------------------------ 8.0/32.8 MB 30.0 MB/s eta 0:00:01\n",
      "   ----------- ---------------------------- 9.6/32.8 MB 30.9 MB/s eta 0:00:01\n",
      "   ------------- -------------------------- 11.3/32.8 MB 36.4 MB/s eta 0:00:01\n",
      "   --------------- ------------------------ 13.0/32.8 MB 36.4 MB/s eta 0:00:01\n",
      "   ----------------- ---------------------- 14.7/32.8 MB 36.4 MB/s eta 0:00:01\n",
      "   ------------------- -------------------- 16.2/32.8 MB 36.3 MB/s eta 0:00:01\n",
      "   --------------------- ------------------ 17.6/32.8 MB 34.4 MB/s eta 0:00:01\n",
      "   ----------------------- ---------------- 19.3/32.8 MB 34.6 MB/s eta 0:00:01\n",
      "   ------------------------- -------------- 21.0/32.8 MB 34.4 MB/s eta 0:00:01\n",
      "   -------------------------- ------------- 22.1/32.8 MB 32.8 MB/s eta 0:00:01\n",
      "   ----------------------------- ---------- 24.0/32.8 MB 34.4 MB/s eta 0:00:01\n",
      "   ------------------------------ --------- 25.4/32.8 MB 36.4 MB/s eta 0:00:01\n",
      "   -------------------------------- ------- 26.3/32.8 MB 31.2 MB/s eta 0:00:01\n",
      "   --------------------------------- ------ 27.6/32.8 MB 31.2 MB/s eta 0:00:01\n",
      "   ----------------------------------- ---- 29.0/32.8 MB 29.7 MB/s eta 0:00:01\n",
      "   ------------------------------------- -- 30.6/32.8 MB 29.8 MB/s eta 0:00:01\n",
      "   ---------------------------------------  32.0/32.8 MB 31.2 MB/s eta 0:00:01\n",
      "   ---------------------------------------  32.8/32.8 MB 31.2 MB/s eta 0:00:01\n",
      "   ---------------------------------------  32.8/32.8 MB 31.2 MB/s eta 0:00:01\n",
      "   ---------------------------------------- 32.8/32.8 MB 24.2 MB/s eta 0:00:00\n",
      "Installing collected packages: SpeechRecognition\n",
      "Successfully installed SpeechRecognition-3.10.1\n",
      "Note: you may need to restart the kernel to use updated packages.\n"
     ]
    },
    {
     "name": "stderr",
     "output_type": "stream",
     "text": [
      "\n",
      "[notice] A new release of pip is available: 23.3.2 -> 24.0\n",
      "[notice] To update, run: python.exe -m pip install --upgrade pip\n"
     ]
    }
   ],
   "source": [
    "#pip install SpeechRecognition"
   ]
  },
  {
   "cell_type": "code",
   "execution_count": 10,
   "metadata": {},
   "outputs": [],
   "source": [
    "import speech_recognition as sr"
   ]
  },
  {
   "cell_type": "code",
   "execution_count": 11,
   "metadata": {},
   "outputs": [],
   "source": [
    "\n",
    "\n",
    "def voice_to_text():\n",
    "    # Initialize recognizer\n",
    "    recognizer = sr.Recognizer()\n",
    "\n",
    "    # Use the default microphone as the audio source\n",
    "    with sr.Microphone() as source:\n",
    "        print(\"Listening...\")\n",
    "\n",
    "        # Adjust for ambient noise\n",
    "        recognizer.adjust_for_ambient_noise(source)\n",
    "\n",
    "        # Listen to the user's input\n",
    "        audio = recognizer.listen(source)\n",
    "\n",
    "    try:\n",
    "        print(\"Recognizing...\")\n",
    "\n",
    "        # Recognize speech using Google Web Speech API\n",
    "        text = recognizer.recognize_google(audio)\n",
    "\n",
    "        print(\"You said:\", text)\n",
    "\n",
    "    except sr.UnknownValueError:\n",
    "        print(\"Sorry, I couldn't understand what you said.\")\n",
    "\n",
    "    except sr.RequestError as e:\n",
    "        print(\"Sorry, an error occurred during the request: {0}\".format(e))\n",
    "\n"
   ]
  },
  {
   "cell_type": "code",
   "execution_count": 13,
   "metadata": {},
   "outputs": [
    {
     "name": "stdout",
     "output_type": "stream",
     "text": [
      "Listening...\n",
      "Recognizing...\n",
      "Sorry, an error occurred during the request: recognition request failed: Bad Request\n"
     ]
    }
   ],
   "source": [
    "if __name__ == \"__main__\":\n",
    "    voice_to_text()"
   ]
  }
 ],
 "metadata": {
  "kernelspec": {
   "display_name": "Python 3",
   "language": "python",
   "name": "python3"
  },
  "language_info": {
   "codemirror_mode": {
    "name": "ipython",
    "version": 3
   },
   "file_extension": ".py",
   "mimetype": "text/x-python",
   "name": "python",
   "nbconvert_exporter": "python",
   "pygments_lexer": "ipython3",
   "version": "3.11.7"
  }
 },
 "nbformat": 4,
 "nbformat_minor": 2
}
