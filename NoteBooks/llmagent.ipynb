{
 "cells": [
  {
   "cell_type": "code",
   "execution_count": 26,
   "metadata": {},
   "outputs": [],
   "source": [
    "import os\n",
    "from dotenv import load_dotenv\n",
    "load_dotenv()\n",
    "import streamlit as st\n",
    "#from openai import OpenAI\n",
    "from langchain import OpenAI\n",
    "from langchain.agents import load_tools,Tool,initialize_agent,AgentType\n",
    "#from langchain.chat_models import ChatOpenAI\n",
    "from langchain_openai import ChatOpenAI"
   ]
  },
  {
   "cell_type": "code",
   "execution_count": 3,
   "metadata": {},
   "outputs": [
    {
     "name": "stdout",
     "output_type": "stream",
     "text": [
      "Note: you may need to restart the kernel to use updated packages.\n"
     ]
    },
    {
     "name": "stderr",
     "output_type": "stream",
     "text": [
      "\n",
      "Usage:   \n",
      "  c:\\Users\\rhasheen\\AppData\\Local\\Programs\\Python\\Python311\\python.exe -m pip install [options] <requirement specifier> [package-index-options] ...\n",
      "  c:\\Users\\rhasheen\\AppData\\Local\\Programs\\Python\\Python311\\python.exe -m pip install [options] -r <requirements file> [package-index-options] ...\n",
      "  c:\\Users\\rhasheen\\AppData\\Local\\Programs\\Python\\Python311\\python.exe -m pip install [options] [-e] <vcs project url> ...\n",
      "  c:\\Users\\rhasheen\\AppData\\Local\\Programs\\Python\\Python311\\python.exe -m pip install [options] [-e] <local project path> ...\n",
      "  c:\\Users\\rhasheen\\AppData\\Local\\Programs\\Python\\Python311\\python.exe -m pip install [options] <archive url/path> ...\n",
      "\n",
      "no such option: -u\n"
     ]
    }
   ],
   "source": [
    "#pip install -u langchain-openai"
   ]
  },
  {
   "cell_type": "code",
   "execution_count": 27,
   "metadata": {},
   "outputs": [],
   "source": [
    "llm = ChatOpenAI(\n",
    "    openai_api_key=os.getenv(\"OPEN_API_KEY\"),\n",
    "    temperature=0\n",
    ")"
   ]
  },
  {
   "cell_type": "code",
   "execution_count": 28,
   "metadata": {},
   "outputs": [],
   "source": [
    "def text_to_sql(input_promt):\n",
    "    return \"SQL Query\"\n",
    "\n",
    "def assign_alv(input_promt):\n",
    "    return  \"Assign ALv\"\n",
    "\n",
    "def extract_details(input_promt):\n",
    "    return \"Extract the Details\"\n",
    "\n",
    "def swap_duties(input_promt):\n",
    "    return \"Swap Duties\""
   ]
  },
  {
   "cell_type": "code",
   "execution_count": 29,
   "metadata": {},
   "outputs": [],
   "source": [
    "tools = [\n",
    "    Tool(\n",
    "        name=\"text_to_sql\",\n",
    "        func=text_to_sql,\n",
    "        description=\"Converting English questions to SQL query\"\n",
    "    ),\n",
    "    Tool(\n",
    "        name=\"extract_details\",\n",
    "        func=extract_details,\n",
    "        description=\"extraction algorithm. \"\n",
    "    ),\n",
    "    Tool(\n",
    "        name=\"assign_alv\",\n",
    "        func=assign_alv,\n",
    "        description=\"Assign ALV\"\n",
    "    ),\n",
    "    Tool(\n",
    "        name=\"swap_duties\",\n",
    "        func=swap_duties,\n",
    "        description=\"Swap Duties\"\n",
    "    )\n",
    "]"
   ]
  },
  {
   "cell_type": "code",
   "execution_count": 30,
   "metadata": {},
   "outputs": [],
   "source": [
    "docstore_agent = initialize_agent(\n",
    "    tools,\n",
    "    llm,\n",
    "    agent=AgentType.OPENAI_MULTI_FUNCTIONS,\n",
    "    verbose=True,\n",
    "    max_iterations=3\n",
    ")"
   ]
  },
  {
   "cell_type": "code",
   "execution_count": 31,
   "metadata": {},
   "outputs": [
    {
     "name": "stdout",
     "output_type": "stream",
     "text": [
      "\n",
      "\n",
      "\u001b[1m> Entering new AgentExecutor chain...\u001b[0m\n",
      "\u001b[32;1m\u001b[1;3m\n",
      "Invoking: `text_to_sql` with `{'tool_input': 'Assign crew memeber 123 to the appril roaster roater'}`\n",
      "\n",
      "\n",
      "\u001b[0m\u001b[36;1m\u001b[1;3mSQL Query\u001b[0m\u001b[32;1m\u001b[1;3mThe SQL query for assigning crew member 123 to the April roster is:\n",
      "\n",
      "```sql\n",
      "INSERT INTO roster (crew_member_id, roster_name)\n",
      "VALUES (123, 'April');\n",
      "```\u001b[0m\n",
      "\n",
      "\u001b[1m> Finished chain.\u001b[0m\n"
     ]
    }
   ],
   "source": [
    "result = docstore_agent(\"Assign crew memeber 123 to the appril roaster roater\")"
   ]
  }
 ],
 "metadata": {
  "kernelspec": {
   "display_name": "Python 3",
   "language": "python",
   "name": "python3"
  },
  "language_info": {
   "codemirror_mode": {
    "name": "ipython",
    "version": 3
   },
   "file_extension": ".py",
   "mimetype": "text/x-python",
   "name": "python",
   "nbconvert_exporter": "python",
   "pygments_lexer": "ipython3",
   "version": "3.11.7"
  }
 },
 "nbformat": 4,
 "nbformat_minor": 2
}
